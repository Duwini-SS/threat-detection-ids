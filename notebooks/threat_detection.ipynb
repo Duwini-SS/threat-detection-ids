{
 "cells": [
  {
   "cell_type": "markdown",
   "id": "e0f2249f",
   "metadata": {},
   "source": [
    "# Threat Detection IDS Project\n",
    "\n",
    "This notebook builds a machine learning model for detecting network intrusions using the NSL-KDD dataset."
   ]
  },
  {
   "cell_type": "code",
   "execution_count": 1,
   "id": "52d5db97",
   "metadata": {},
   "outputs": [
    {
     "name": "stdout",
     "output_type": "stream",
     "text": [
      "Libraries imported successfully!\n"
     ]
    }
   ],
   "source": [
    "import pandas as pd\n",
    "import numpy as np\n",
    "from sklearn.model_selection import train_test_split\n",
    "from sklearn.preprocessing import StandardScaler, LabelEncoder\n",
    "from sklearn.ensemble import RandomForestClassifier\n",
    "from sklearn.metrics import classification_report, confusion_matrix\n",
    "import matplotlib.pyplot as plt\n",
    "import seaborn as sns\n",
    "\n",
    "print(\"Libraries imported successfully!\")"
   ]
  },
  {
   "cell_type": "markdown",
   "id": "91c1e20e",
   "metadata": {},
   "source": [
    "## Dataset Info\n",
    "- We'll use NSL-KDD: Download tomorrow.\n",
    "- Features: 41 attributes like duration, protocol, etc.\n",
    "- Labels: Normal or attack types (e.g., DoS, Probe)."
   ]
  }
 ],
 "metadata": {
  "kernelspec": {
   "display_name": "venv",
   "language": "python",
   "name": "python3"
  },
  "language_info": {
   "codemirror_mode": {
    "name": "ipython",
    "version": 3
   },
   "file_extension": ".py",
   "mimetype": "text/x-python",
   "name": "python",
   "nbconvert_exporter": "python",
   "pygments_lexer": "ipython3",
   "version": "3.11.0"
  }
 },
 "nbformat": 4,
 "nbformat_minor": 5
}
