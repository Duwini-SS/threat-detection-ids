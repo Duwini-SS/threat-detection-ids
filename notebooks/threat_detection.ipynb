{
 "cells": [
  {
   "cell_type": "markdown",
   "id": "e0f2249f",
   "metadata": {},
   "source": [
    "# Threat Detection IDS Project\n",
    "\n",
    "This notebook builds a machine learning model for detecting network intrusions using the NSL-KDD dataset."
   ]
  },
  {
   "cell_type": "code",
   "execution_count": 1,
   "id": "52d5db97",
   "metadata": {},
   "outputs": [
    {
     "name": "stdout",
     "output_type": "stream",
     "text": [
      "Libraries imported successfully!\n"
     ]
    }
   ],
   "source": [
    "import pandas as pd\n",
    "import numpy as np\n",
    "from sklearn.model_selection import train_test_split\n",
    "from sklearn.preprocessing import StandardScaler, LabelEncoder\n",
    "from sklearn.ensemble import RandomForestClassifier\n",
    "from sklearn.metrics import classification_report, confusion_matrix\n",
    "import matplotlib.pyplot as plt\n",
    "import seaborn as sns\n",
    "\n",
    "print(\"Libraries imported successfully!\")"
   ]
  },
  {
   "cell_type": "markdown",
   "id": "91c1e20e",
   "metadata": {},
   "source": [
    "## Dataset Info\n",
    "- We'll use NSL-KDD: Download tomorrow.\n",
    "- Features: 41 attributes like duration, protocol, etc.\n",
    "- Labels: Normal or attack types (e.g., DoS, Probe)."
   ]
  },
  {
   "cell_type": "markdown",
   "id": "d0af7a70",
   "metadata": {},
   "source": [
    "## Dataset Download and Exploration"
   ]
  },
  {
   "cell_type": "markdown",
   "id": "cf4cc8bb",
   "metadata": {},
   "source": []
  },
  {
   "cell_type": "code",
   "execution_count": 3,
   "id": "26aa8876",
   "metadata": {},
   "outputs": [
    {
     "name": "stdout",
     "output_type": "stream",
     "text": [
      "Training data shape: (125973, 42)\n",
      "Test data shape: (22544, 42)\n",
      "\n",
      "First 5 rows of training data:\n",
      "   duration protocol_type service  flag  src_bytes  dst_bytes  land  \\\n",
      "0      tcp      ftp_data      SF   491          0          0     0   \n",
      "0      udp         other      SF   146          0          0     0   \n",
      "0      tcp       private      S0     0          0          0     0   \n",
      "0      tcp          http      SF   232       8153          0     0   \n",
      "0      tcp          http      SF   199        420          0     0   \n",
      "\n",
      "   wrong_fragment  urgent  hot  ...  dst_host_srv_count  \\\n",
      "0               0       0    0  ...                0.17   \n",
      "0               0       0    0  ...                0.00   \n",
      "0               0       0    0  ...                0.10   \n",
      "0               0       0    0  ...                1.00   \n",
      "0               0       0    0  ...                1.00   \n",
      "\n",
      "   dst_host_same_srv_rate  dst_host_diff_srv_rate  \\\n",
      "0                    0.03                    0.17   \n",
      "0                    0.60                    0.88   \n",
      "0                    0.05                    0.00   \n",
      "0                    0.00                    0.03   \n",
      "0                    0.00                    0.00   \n",
      "\n",
      "   dst_host_same_src_port_rate  dst_host_srv_diff_host_rate  \\\n",
      "0                         0.00                         0.00   \n",
      "0                         0.00                         0.00   \n",
      "0                         0.00                         1.00   \n",
      "0                         0.04                         0.03   \n",
      "0                         0.00                         0.00   \n",
      "\n",
      "   dst_host_serror_rate  dst_host_srv_serror_rate  dst_host_rerror_rate  \\\n",
      "0                  0.00                      0.05                  0.00   \n",
      "0                  0.00                      0.00                  0.00   \n",
      "0                  1.00                      0.00                  0.00   \n",
      "0                  0.01                      0.00                  0.01   \n",
      "0                  0.00                      0.00                  0.00   \n",
      "\n",
      "   dst_host_srv_rerror_rate  label  \n",
      "0                    normal     20  \n",
      "0                    normal     15  \n",
      "0                   neptune     19  \n",
      "0                    normal     21  \n",
      "0                    normal     21  \n",
      "\n",
      "[5 rows x 42 columns]\n"
     ]
    }
   ],
   "source": [
    "# Column names \n",
    "columns = [\n",
    "    'duration', 'protocol_type', 'service', 'flag', 'src_bytes', 'dst_bytes', 'land', 'wrong_fragment',\n",
    "    'urgent', 'hot', 'num_failed_logins', 'logged_in', 'num_compromised', 'root_shell', 'su_attempted',\n",
    "    'num_root', 'num_file_creations', 'num_shells', 'num_access_files', 'num_outbound_cmds',\n",
    "    'is_host_login', 'is_guest_login', 'count', 'srv_count', 'serror_rate', 'srv_serror_rate',\n",
    "    'rerror_rate', 'srv_rerror_rate', 'same_srv_rate', 'diff_srv_rate', 'srv_diff_host_rate',\n",
    "    'dst_host_count', 'dst_host_srv_count', 'dst_host_same_srv_rate', 'dst_host_diff_srv_rate',\n",
    "    'dst_host_same_src_port_rate', 'dst_host_srv_diff_host_rate', 'dst_host_serror_rate',\n",
    "    'dst_host_srv_serror_rate', 'dst_host_rerror_rate', 'dst_host_srv_rerror_rate', 'label'\n",
    "]\n",
    "\n",
    "# Load training data\n",
    "train_df = pd.read_csv('../data/KDDTrain+.csv', names=columns, header=None)\n",
    "\n",
    "# Load test data\n",
    "test_df = pd.read_csv('../data/KDDTest+.csv', names=columns, header=None)\n",
    "\n",
    "print(\"Training data shape:\", train_df.shape)\n",
    "print(\"Test data shape:\", test_df.shape)\n",
    "print(\"\\nFirst 5 rows of training data:\\n\", train_df.head())"
   ]
  },
  {
   "cell_type": "code",
   "execution_count": 4,
   "id": "db38a9b0",
   "metadata": {},
   "outputs": [
    {
     "name": "stdout",
     "output_type": "stream",
     "text": [
      "Missing values in train: 0\n",
      "Missing values in test: 0\n",
      "\n",
      "Data types:\n",
      " duration                        object\n",
      "protocol_type                   object\n",
      "service                         object\n",
      "flag                             int64\n",
      "src_bytes                        int64\n",
      "dst_bytes                        int64\n",
      "land                             int64\n",
      "wrong_fragment                   int64\n",
      "urgent                           int64\n",
      "hot                              int64\n",
      "num_failed_logins                int64\n",
      "logged_in                        int64\n",
      "num_compromised                  int64\n",
      "root_shell                       int64\n",
      "su_attempted                     int64\n",
      "num_root                         int64\n",
      "num_file_creations               int64\n",
      "num_shells                       int64\n",
      "num_access_files                 int64\n",
      "num_outbound_cmds                int64\n",
      "is_host_login                    int64\n",
      "is_guest_login                   int64\n",
      "count                            int64\n",
      "srv_count                      float64\n",
      "serror_rate                    float64\n",
      "srv_serror_rate                float64\n",
      "rerror_rate                    float64\n",
      "srv_rerror_rate                float64\n",
      "same_srv_rate                  float64\n",
      "diff_srv_rate                  float64\n",
      "srv_diff_host_rate               int64\n",
      "dst_host_count                   int64\n",
      "dst_host_srv_count             float64\n",
      "dst_host_same_srv_rate         float64\n",
      "dst_host_diff_srv_rate         float64\n",
      "dst_host_same_src_port_rate    float64\n",
      "dst_host_srv_diff_host_rate    float64\n",
      "dst_host_serror_rate           float64\n",
      "dst_host_srv_serror_rate       float64\n",
      "dst_host_rerror_rate           float64\n",
      "dst_host_srv_rerror_rate        object\n",
      "label                            int64\n",
      "dtype: object\n",
      "\n",
      "Label distribution in train:\n",
      " label\n",
      "21    62557\n",
      "18    20667\n",
      "20    19339\n",
      "19    10284\n",
      "15     3990\n",
      "17     3074\n",
      "16     2393\n",
      "12      729\n",
      "14      674\n",
      "11      641\n",
      "13      451\n",
      "10      253\n",
      "9       194\n",
      "7       118\n",
      "8       106\n",
      "6        96\n",
      "5        81\n",
      "4        79\n",
      "0        66\n",
      "3        65\n",
      "1        62\n",
      "2        54\n",
      "Name: count, dtype: int64\n",
      "\n",
      "Label distribution in test:\n",
      " label\n",
      "21    10694\n",
      "18     2967\n",
      "20     1343\n",
      "15     1176\n",
      "17     1168\n",
      "19      890\n",
      "14      736\n",
      "16      681\n",
      "13      519\n",
      "12      486\n",
      "11      461\n",
      "7       249\n",
      "10      195\n",
      "6       157\n",
      "8       131\n",
      "0       123\n",
      "3       116\n",
      "9       106\n",
      "5       103\n",
      "4       101\n",
      "1        87\n",
      "2        55\n",
      "Name: count, dtype: int64\n",
      "\n",
      "Binary label distribution in train:\n",
      " Series([], Name: count, dtype: int64)\n"
     ]
    }
   ],
   "source": [
    "# Check for missing values\n",
    "print(\"Missing values in train:\", train_df.isnull().sum().sum())\n",
    "print(\"Missing values in test:\", test_df.isnull().sum().sum())\n",
    "\n",
    "# Data types\n",
    "print(\"\\nData types:\\n\", train_df.dtypes)\n",
    "\n",
    "# Unique labels and counts\n",
    "print(\"\\nLabel distribution in train:\\n\", train_df['label'].value_counts())\n",
    "print(\"\\nLabel distribution in test:\\n\", test_df['label'].value_counts())\n",
    "\n",
    "# Simplify labels: Map to 'normal' or 'attack'\n",
    "attack_types = {\n",
    "    'normal': 'normal',\n",
    "    'back': 'attack', 'land': 'attack', 'neptune': 'attack', 'pod': 'attack', 'smurf': 'attack', 'teardrop': 'attack',\n",
    "    'ipsweep': 'attack', 'nmap': 'attack', 'portsweep': 'attack', 'satan': 'attack',\n",
    "    'ftp_write': 'attack', 'guess_passwd': 'attack', 'imap': 'attack', 'multihop': 'attack', 'phf': 'attack', 'spy': 'attack', 'warezclient': 'attack', 'warezmaster': 'attack',\n",
    "    'buffer_overflow': 'attack', 'loadmodule': 'attack', 'perl': 'attack', 'rootkit': 'attack'\n",
    "}\n",
    "train_df['binary_label'] = train_df['label'].map(attack_types)\n",
    "test_df['binary_label'] = test_df['label'].map(attack_types)\n",
    "\n",
    "print(\"\\nBinary label distribution in train:\\n\", train_df['binary_label'].value_counts())"
   ]
  },
  {
   "cell_type": "code",
   "execution_count": 5,
   "id": "dada85b8",
   "metadata": {},
   "outputs": [
    {
     "data": {
      "image/png": "[encoded data removed]",
      "text/plain": [
       "<Figure size 800x600 with 1 Axes>"
      ]
     },
     "metadata": {},
     "output_type": "display_data"
    },
    {
     "data": {
      "image/png": "[encoded data removed]",
      "text/plain": [
       "<Figure size 800x600 with 1 Axes>"
      ]
     },
     "metadata": {},
     "output_type": "display_data"
    }
   ],
   "source": [
    "# Plot binary label distribution\n",
    "plt.figure(figsize=(8, 6))\n",
    "sns.countplot(x='binary_label', data=train_df)\n",
    "plt.title('Binary Label Distribution in Training Data')\n",
    "plt.show()\n",
    "\n",
    "# Example: Duration distribution\n",
    "plt.figure(figsize=(8, 6))\n",
    "sns.histplot(train_df['duration'], bins=50, kde=True)\n",
    "plt.title('Duration Distribution')\n",
    "plt.show()"
   ]
  }
 ],
 "metadata": {
  "kernelspec": {
   "display_name": "venv",
   "language": "python",
   "name": "python3"
  },
  "language_info": {
   "codemirror_mode": {
    "name": "ipython",
    "version": 3
   },
   "file_extension": ".py",
   "mimetype": "text/x-python",
   "name": "python",
   "nbconvert_exporter": "python",
   "pygments_lexer": "ipython3",
   "version": "3.11.0"
  }
 },
 "nbformat": 4,
 "nbformat_minor": 5
}
